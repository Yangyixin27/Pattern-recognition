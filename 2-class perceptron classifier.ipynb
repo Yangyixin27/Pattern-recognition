{
 "cells": [
  {
   "cell_type": "code",
   "execution_count": 97,
   "metadata": {},
   "outputs": [],
   "source": [
    "%matplotlib inline\n",
    "import numpy as np\n",
    "import matplotlib.pyplot as plt\n",
    "from scipy.spatial.distance import cdist\n",
    "epoch_number=100\n",
    "learning_rate=1"
   ]
  },
  {
   "cell_type": "code",
   "execution_count": 108,
   "metadata": {},
   "outputs": [],
   "source": [
    "def Merge_weight(label,xy):    \n",
    "    ############# reflect training data ###################\n",
    "\n",
    "    z_1=[]\n",
    "    for i in range(len(label)):\n",
    "        j=1 if label[i]==1.0 else -1\n",
    "        z_1.append(j)\n",
    "        xy[i] *= j \n",
    "    z_1=np.array(z_1)\n",
    "    z_1=z_1.reshape((len(z_1),1))\n",
    "    ############ fight best wight ##################\n",
    "    W=[0.1,0.1]  #initial W\n",
    "    for epoch in range(epoch_number): #iterate epoch\n",
    "        flag=0                        #check where there is update on W\n",
    "        if epoch == epoch_number-1:   #if this is the last epoch\n",
    "            min_JW=float(\"inf\")\n",
    "            Best_W=W\n",
    "            for i in range(len(xy)): \n",
    "                if np.dot(xy[i],W)<0:       \n",
    "                    W+=learning_rate*xy[i] \n",
    "                JW=abs(sum(np.minimum(np.sum(xy*W,axis=1),[0]*len(xy))))\n",
    "\n",
    "                if JW<min_JW:\n",
    "                    Best_W=W\n",
    "\n",
    "        else:\n",
    "            for i in range(len(xy)):   #iterate over all points\n",
    "                if np.dot(xy[i],W)<0:    #if this point is misclassified\n",
    "\n",
    "                    flag=1           #if there is update, set flag\n",
    "                    W+=learning_rate*xy[i]   #update W\n",
    "        if not flag: \n",
    "            Best_W=W\n",
    "            break\n",
    "    return Best_W,z_1\n"
   ]
  },
  {
   "cell_type": "code",
   "execution_count": 111,
   "metadata": {},
   "outputs": [
    {
     "name": "stdout",
     "output_type": "stream",
     "text": [
      "The Final weight for Syn1 is: [-43.17179  41.901  ]\n",
      "The error for training set is: 2.0%\n",
      "The error for testing set is: 3.0%\n"
     ]
    }
   ],
   "source": [
    "Syn1_train_data=np.loadtxt(\"synthetic1_train.csv\", dtype=np.float, delimiter=\",\")\n",
    "Syn1_test_data=np.loadtxt(\"synthetic1_test.csv\", dtype=np.float, delimiter=\",\")\n",
    "np.random.shuffle(Syn1_train_data)\n",
    "Syn1_train_label=Syn1_train_data[:,-1]\n",
    "Syn1_train_xy=Syn1_train_data[:,:-1]\n",
    "Syn1_weight,z_1=Merge_weight(Syn1_train_label,Syn1_train_xy)\n",
    "Syn1_test_xy=Syn1_test_data[:,:-1]\n",
    "Syn1_test_label=Syn1_test_data[:,-1]\n",
    "result = np.sum(Syn1_train_xy*Syn1_weight,axis=1)\n",
    "count=0.0\n",
    "for i in range(len(result)):\n",
    "    if result[i]<0:\n",
    "        count+=1.0\n",
    "test_result = np.sum(Syn1_test_xy*Syn1_weight,axis=1)\n",
    "number=0.0\n",
    "#print test_result\n",
    "for i in range(len(test_result)):\n",
    "    if (test_result[i]<0 and Syn1_test_label[i]==1) or (test_result[i]>0 and Syn1_test_label[i]==2):\n",
    "        number+=1.0\n",
    "\n",
    "print \"The Final weight for Syn1 is: %s\"%Syn1_weight\n",
    "print \"The error for training set is: %s%%\"% str(count/len(result)*100)\n",
    "print \"The error for testing set is: %s%%\"% str(number/len(test_result)*100)"
   ]
  },
  {
   "cell_type": "code",
   "execution_count": 112,
   "metadata": {},
   "outputs": [
    {
     "name": "stdout",
     "output_type": "stream",
     "text": [
      "The Final weight for Syn2 is: [-1.2721  13.93228]\n",
      "The error for training set is: 2.0%\n",
      "The error for testing set is: 3.0%\n"
     ]
    }
   ],
   "source": [
    "Syn2_train_data=np.loadtxt(\"synthetic2_train.csv\", dtype=np.float, delimiter=\",\")\n",
    "Syn2_test_data=np.loadtxt(\"synthetic2_test.csv\", dtype=np.float, delimiter=\",\")\n",
    "np.random.shuffle(Syn2_train_data)\n",
    "Syn2_train_label=Syn2_train_data[:,-1]\n",
    "Syn2_train_xy=Syn2_train_data[:,:-1]\n",
    "Syn2_weight,z_2=Merge_weight(Syn2_train_label,Syn2_train_xy)\n",
    "Syn2_test_xy=Syn2_test_data[:,:-1]\n",
    "Syn2_test_label=Syn2_test_data[:,-1]\n",
    "result = np.sum(Syn2_train_xy*Syn2_weight,axis=1)\n",
    "count=0.0\n",
    "for i in range(len(result)):\n",
    "    if result[i]<0:\n",
    "        count+=1.0\n",
    "test_result = np.sum(Syn2_test_xy*Syn2_weight,axis=1)\n",
    "number=0.0\n",
    "#print test_result\n",
    "for i in range(len(test_result)):\n",
    "    if (test_result[i]<0 and Syn2_test_label[i]==1) or (test_result[i]>0 and Syn2_test_label[i]==2):\n",
    "        number+=1.0\n",
    "\n",
    "print \"The Final weight for Syn2 is: %s\"%Syn2_weight\n",
    "print \"The error for training set is: %s%%\"% str(count/len(result)*100)\n",
    "print \"The error for testing set is: %s%%\"% str(number/len(test_result)*100)"
   ]
  },
  {
   "cell_type": "code",
   "execution_count": 114,
   "metadata": {},
   "outputs": [
    {
     "name": "stdout",
     "output_type": "stream",
     "text": [
      "The Final weight for Syn3 is: [-13.41021  11.07056]\n",
      "The error for training set is: 0.0%\n",
      "The error for testing set is: 1.0%\n"
     ]
    }
   ],
   "source": [
    "train_label=np.loadtxt(\"label_train.csv\", dtype=np.float, delimiter=\",\")\n",
    "train_xy=np.loadtxt(\"feature_train.csv\", dtype=np.float, delimiter=\",\")\n",
    "train_label=train_label.reshape((len(train_label),1))\n",
    "\n",
    "data= np.concatenate((train_xy,train_label),axis=1)\n",
    "np.random.shuffle(data)\n",
    "\n",
    "Syn3_train_label=data[:,-1]\n",
    "Syn3_train_xy=data[:,:-1]\n",
    "\n",
    "\n",
    "Syn3_weight,z_3=Merge_weight(Syn3_train_label,Syn3_train_xy)\n",
    "Syn3_test_xy=np.loadtxt(\"feature_test.csv\", dtype=np.float, delimiter=\",\")\n",
    "Syn3_test_label=np.loadtxt(\"label_test.csv\", dtype=np.float, delimiter=\",\")\n",
    "result = np.sum(Syn3_train_xy*Syn3_weight,axis=1)\n",
    "count=0.0\n",
    "for i in range(len(result)):\n",
    "    if result[i]<0:\n",
    "        count+=1.0\n",
    "test_result = np.sum(Syn3_test_xy*Syn3_weight,axis=1)\n",
    "number=0.0\n",
    "#print test_result\n",
    "for i in range(len(test_result)):\n",
    "    if (test_result[i]<0 and Syn3_test_label[i]==1) or (test_result[i]>0 and Syn3_test_label[i]==2):\n",
    "        number+=1.0\n",
    "\n",
    "print \"The Final weight for Syn3 is: %s\"%Syn3_weight\n",
    "print \"The error for training set is: %s%%\"% str(count/len(result)*100)\n",
    "print \"The error for testing set is: %s%%\"% str(number/len(test_result)*100)"
   ]
  },
  {
   "cell_type": "code",
   "execution_count": 115,
   "metadata": {},
   "outputs": [
    {
     "data": {
      "image/png": "[encoded data removed]",
      "text/plain": [
       "<Figure size 432x288 with 1 Axes>"
      ]
     },
     "metadata": {
      "needs_background": "light"
     },
     "output_type": "display_data"
    }
   ],
   "source": [
    "plotDecBoundaries(Syn1_train_xy*z_1,Syn1_train_label,Syn1_weight)"
   ]
  },
  {
   "cell_type": "code",
   "execution_count": 116,
   "metadata": {},
   "outputs": [
    {
     "data": {
      "image/png": "[encoded data removed]",
      "text/plain": [
       "<Figure size 432x288 with 1 Axes>"
      ]
     },
     "metadata": {
      "needs_background": "light"
     },
     "output_type": "display_data"
    }
   ],
   "source": [
    "plotDecBoundaries(Syn2_train_xy*z_2,Syn2_train_label,Syn2_weight)"
   ]
  },
  {
   "cell_type": "code",
   "execution_count": 117,
   "metadata": {},
   "outputs": [
    {
     "data": {
      "image/png": "[encoded data removed]",
      "text/plain": [
       "<Figure size 432x288 with 1 Axes>"
      ]
     },
     "metadata": {
      "needs_background": "light"
     },
     "output_type": "display_data"
    }
   ],
   "source": [
    "plotDecBoundaries(Syn3_train_xy*z_3,Syn3_train_label,Syn3_weight)"
   ]
  },
  {
   "cell_type": "code",
   "execution_count": 83,
   "metadata": {},
   "outputs": [],
   "source": [
    "def plotDecBoundaries(training, label_train,weight):\n",
    "\n",
    "    #Plot the decision boundaries and data points for minimum distance to\n",
    "    #class mean classifier\n",
    "    #\n",
    "    # training: traning data\n",
    "    # label_train: class lables correspond to training data\n",
    "    # sample_mean: mean vector for each class\n",
    "    #\n",
    "    # Total number of classes\n",
    "    nclass =  max(np.unique(label_train))\n",
    "\n",
    "    # Set the feature range for ploting\n",
    "    max_x = np.ceil(max(training[:, 0])) + 1\n",
    "    min_x = np.floor(min(training[:, 0])) - 1\n",
    "    max_y = np.ceil(max(training[:, 1])) + 1\n",
    "    min_y = np.floor(min(training[:, 1])) - 1\n",
    "\n",
    "    xrange = (min_x, max_x)\n",
    "    yrange = (min_y, max_y)\n",
    "\n",
    "    # step size for how finely you want to visualize the decision boundary.\n",
    "    inc = 0.005\n",
    "\n",
    "    # generate grid coordinates. this will be the basis of the decision\n",
    "    # boundary visualization.\n",
    "    (x, y) = np.meshgrid(np.arange(xrange[0], xrange[1]+inc/100, inc), np.arange(yrange[0], yrange[1]+inc/100, inc))\n",
    "\n",
    "    # size of the (x, y) image, which will also be the size of the\n",
    "    # decision boundary image that is used as the plot background.\n",
    "    image_size = x.shape\n",
    "    xy = np.hstack( (x.reshape(x.shape[0]*x.shape[1], 1, order='F'), y.reshape(y.shape[0]*y.shape[1], 1, order='F')) ) # make (x,y) pairs as a bunch of row vectors.\n",
    "\n",
    "    # distance measure evaluations for each (x,y) pair.\n",
    "    dist_mat = np.dot(xy,weight)\n",
    "    pred_label = (dist_mat>0)*1\n",
    "\n",
    "    # reshape the idx (which contains the class label) into an image.\n",
    "    decisionmap = pred_label.reshape(image_size, order='F')\n",
    "\n",
    "    #show the image, give each coordinate a color according to its class label\n",
    "    plt.imshow(decisionmap, extent=[xrange[0], xrange[1], yrange[0], yrange[1]], origin='lower')\n",
    "\n",
    "    # plot the class training data.\n",
    "    plt.plot(training[label_train == 1, 0],training[label_train == 1, 1], 'rx')\n",
    "    plt.plot(training[label_train == 2, 0],training[label_train == 2, 1], 'go')\n",
    "    if nclass == 3:\n",
    "        plt.plot(training[label_train == 3, 0],training[label_train == 3, 1], 'b*')\n",
    "\n",
    "    # include legend for training data\n",
    "    if nclass == 3:\n",
    "        l = plt.legend(('Class 1', 'Class 2', 'Class 3'), loc=2)\n",
    "    else:\n",
    "        l = plt.legend(('Class 1', 'Class 2'), loc=2)\n",
    "    plt.gca().add_artist(l)\n",
    "\n",
    "    plt.show()"
   ]
  },
  {
   "cell_type": "code",
   "execution_count": null,
   "metadata": {},
   "outputs": [],
   "source": []
  }
 ],
 "metadata": {
  "kernelspec": {
   "display_name": "Python 2",
   "language": "python",
   "name": "python2"
  },
  "language_info": {
   "codemirror_mode": {
    "name": "ipython",
    "version": 2
   },
   "file_extension": ".py",
   "mimetype": "text/x-python",
   "name": "python",
   "nbconvert_exporter": "python",
   "pygments_lexer": "ipython2",
   "version": "2.7.15"
  }
 },
 "nbformat": 4,
 "nbformat_minor": 2
}
