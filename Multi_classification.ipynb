{
 "cells": [
  {
   "cell_type": "code",
   "execution_count": 1,
   "metadata": {},
   "outputs": [],
   "source": [
    "%matplotlib inline\n",
    "import numpy as np\n",
    "import matplotlib.pyplot as plt\n",
    "from scipy.spatial.distance import cdist"
   ]
  },
  {
   "cell_type": "code",
   "execution_count": 2,
   "metadata": {},
   "outputs": [],
   "source": [
    "wine_data = np.loadtxt(\"wine_train.csv\", dtype=np.float, delimiter=\",\")\n",
    "wine_xy=wine_data[:,:2]\n",
    "wine_label=wine_data[:,-1]"
   ]
  },
  {
   "cell_type": "code",
   "execution_count": 3,
   "metadata": {},
   "outputs": [],
   "source": [
    "def One_vs_Rest(xy_data,label,classnumber):\n",
    "    yes_count=list(label).count(classnumber)\n",
    "    no_count=len(label)-yes_count\n",
    "    sample=np.array([[float(0)]*2 for _ in range(2)])\n",
    "    for i in range(len(xy_data)):\n",
    "        if label[i]==classnumber:\n",
    "            sample[0]=sample[0]+xy_data[i]\n",
    "        else:\n",
    "            sample[1]=sample[1]+xy_data[i]\n",
    "    sample[0] = sample[0]/yes_count\n",
    "    sample[1]=sample[1]/no_count\n",
    "    return sample"
   ]
  },
  {
   "cell_type": "code",
   "execution_count": 4,
   "metadata": {},
   "outputs": [],
   "source": [
    "mean_12=One_vs_Rest(wine_xy,wine_label,3)\n",
    "mean_13=One_vs_Rest(wine_xy,wine_label,2)\n",
    "mean_23=One_vs_Rest(wine_xy,wine_label,1)"
   ]
  },
  {
   "cell_type": "code",
   "execution_count": 5,
   "metadata": {},
   "outputs": [],
   "source": [
    "#calculate the distance between each point with two classes\n",
    "dist_12 = cdist(wine_xy, mean_12)\n",
    "pred_label_12 = np.argmin(dist_12, axis=1)\n",
    "dist_13 = cdist(wine_xy, mean_13)\n",
    "pred_label_13 = np.argmin(dist_13, axis=1)\n",
    "dist_23 = cdist(wine_xy, mean_23)\n",
    "pred_label_23 = np.argmin(dist_23, axis=1)\n",
    "\n",
    "pred_label=np.array([0]*len(pred_label_12))\n",
    "#print pred_label\n",
    "for i in range(len(pred_label_12)):\n",
    "    if pred_label_12[i] and pred_label_13[i] and not pred_label_23[i]:\n",
    "        pred_label[i]=1\n",
    "    elif pred_label_12[i] and pred_label_23[i] and not pred_label_13[i]:\n",
    "        pred_label[i]=2\n",
    "    elif pred_label_13[i] and pred_label_23[i] and not pred_label_12[i]:\n",
    "        pred_label[i]=3\n",
    "#print pred_label"
   ]
  },
  {
   "cell_type": "code",
   "execution_count": 6,
   "metadata": {},
   "outputs": [
    {
     "name": "stdout",
     "output_type": "stream",
     "text": [
      "Training Classification accuracy is 74.1573033708%\n"
     ]
    }
   ],
   "source": [
    "label_count = 0\n",
    "for i in range(len(pred_label)):\n",
    "    if pred_label[i]==wine_label[i]:\n",
    "        label_count+=1\n",
    "percent = label_count/float(len(pred_label))*100\n",
    "print (\"Training Classification accuracy is %s%%\")%percent"
   ]
  },
  {
   "cell_type": "code",
   "execution_count": 7,
   "metadata": {},
   "outputs": [
    {
     "name": "stdout",
     "output_type": "stream",
     "text": [
      "Test Classification accuracy is 71.9101123596%\n"
     ]
    }
   ],
   "source": [
    "wine_test_data = np.loadtxt(\"wine_test.csv\", dtype=np.float, delimiter=\",\")\n",
    "wine_test_xy=wine_test_data[:,:2]\n",
    "wine_test_label=wine_test_data[:,-1]\n",
    "#print wine_test_label\n",
    "pred_test_label=np.array([0]*len(wine_test_label))\n",
    "dist_12 = cdist(wine_test_xy, mean_12)\n",
    "pred_test_label_12 = np.argmin(dist_12, axis=1)\n",
    "dist_13 = cdist(wine_test_xy, mean_13)\n",
    "pred_test_label_13 = np.argmin(dist_13, axis=1)\n",
    "dist_23 = cdist(wine_test_xy, mean_23)\n",
    "pred_test_label_23 = np.argmin(dist_23, axis=1)\n",
    "for i in range(len(pred_test_label)):\n",
    "    if pred_test_label_12[i] and pred_test_label_13[i]:\n",
    "        pred_test_label[i]=1\n",
    "    elif pred_test_label_12[i] and pred_test_label_23[i]:\n",
    "        pred_test_label[i]=2\n",
    "    elif pred_test_label_13[i] and pred_test_label_23[i]:\n",
    "        pred_test_label[i]=3\n",
    "\n",
    "\n",
    "label_test_count = 0\n",
    "for i in range(len(pred_test_label)):\n",
    "    if pred_test_label[i]==wine_test_label[i]:\n",
    "        label_test_count+=1\n",
    "\n",
    "test_percent= label_test_count/float(len(pred_test_label))*100\n",
    "print (\"Test Classification accuracy is %s%%\")%test_percent"
   ]
  },
  {
   "cell_type": "code",
   "execution_count": 8,
   "metadata": {},
   "outputs": [
    {
     "name": "stdout",
     "output_type": "stream",
     "text": [
      "[[13.17333333  3.28333333]\n",
      " [12.88861538  1.89584615]]\n"
     ]
    },
    {
     "data": {
      "text/plain": [
       "<matplotlib.image.AxesImage at 0x6281ebc50>"
      ]
     },
     "execution_count": 8,
     "metadata": {},
     "output_type": "execute_result"
    },
    {
     "data": {
      "image/png": "[encoded data removed]",
      "text/plain": [
       "<Figure size 432x288 with 1 Axes>"
      ]
     },
     "metadata": {
      "needs_background": "light"
     },
     "output_type": "display_data"
    }
   ],
   "source": [
    "max_x = np.ceil(max(wine_xy[:, 0])) + 1\n",
    "min_x = np.floor(min(wine_xy[:, 0])) - 1\n",
    "max_y = np.ceil(max(wine_xy[:, 1])) + 1\n",
    "min_y = np.floor(min(wine_xy[:, 1])) - 1\n",
    "\n",
    "xrange = (min_x, max_x)\n",
    "yrange = (min_y, max_y)\n",
    "\n",
    "# step size for how finely you want to visualize the decision boundary.\n",
    "inc = 0.005\n",
    "\n",
    "# generate grid coordinates. this will be the basis of the decision\n",
    "# boundary visualization.\n",
    "(x, y) = np.meshgrid(np.arange(xrange[0], xrange[1]+inc/100, inc), np.arange(yrange[0], yrange[1]+inc/100, inc))\n",
    "\n",
    "# size of the (x, y) image, which will also be the size of the\n",
    "# decision boundary image that is used as the plot background.\n",
    "image_size = x.shape\n",
    "xy = np.hstack( (x.reshape(x.shape[0]*x.shape[1], 1, order='F'), y.reshape(y.shape[0]*y.shape[1], 1, order='F')) ) # make (x,y) pairs as a bunch of row vectors.\n",
    "\n",
    "# distance measure evaluations for each (x,y) pair.\n",
    "dist_mat_12 = cdist(xy, mean_12)\n",
    "print mean_12\n",
    "pred_label_12 = np.argmin(dist_mat_12, axis=1)\n",
    "\n",
    "\n",
    "dist_mat_13 = cdist(xy, mean_13)\n",
    "pred_label_13 = np.argmin(dist_mat_13, axis=1)\n",
    "\n",
    "#print pred_label_12,pred_label_13\n",
    "\n",
    "dist_mat_23 = cdist(xy, mean_23)\n",
    "pred_label_23 = np.argmin(dist_mat_23, axis=1)\n",
    "\n",
    "pred_label_1=pred_label_12&pred_label_13&(~pred_label_23)\n",
    "pred_label_2=pred_label_12&pred_label_23&(~pred_label_13)\n",
    "pred_label_3=pred_label_23&pred_label_13&(~pred_label_12)\n",
    "# reshape the idx (which contains the class label) into an image.\n",
    "decisionmap_1 = pred_label_1.reshape(image_size, order='F')\n",
    "decisionmap_2 = pred_label_2.reshape(image_size, order='F')\n",
    "decisionmap_3 = pred_label_3.reshape(image_size, order='F')\n",
    "\n",
    "#show the image, give each coordinate a color according to its class label\n",
    "plt.imshow(decisionmap_1, extent=[xrange[0], xrange[1], yrange[0], yrange[1]], origin='lower')\n"
   ]
  },
  {
   "cell_type": "code",
   "execution_count": 9,
   "metadata": {},
   "outputs": [
    {
     "data": {
      "text/plain": [
       "<matplotlib.image.AxesImage at 0x628c16050>"
      ]
     },
     "execution_count": 9,
     "metadata": {},
     "output_type": "execute_result"
    },
    {
     "data": {
      "image/png": "[encoded data removed]",
      "text/plain": [
       "<Figure size 432x288 with 1 Axes>"
      ]
     },
     "metadata": {
      "needs_background": "light"
     },
     "output_type": "display_data"
    }
   ],
   "source": [
    "plt.imshow(decisionmap_2, extent=[xrange[0], xrange[1], yrange[0], yrange[1]], origin='lower')\n"
   ]
  },
  {
   "cell_type": "code",
   "execution_count": 10,
   "metadata": {},
   "outputs": [
    {
     "data": {
      "text/plain": [
       "<matplotlib.image.AxesImage at 0x629b60090>"
      ]
     },
     "execution_count": 10,
     "metadata": {},
     "output_type": "execute_result"
    },
    {
     "data": {
      "image/png": "[encoded data removed]",
      "text/plain": [
       "<Figure size 432x288 with 1 Axes>"
      ]
     },
     "metadata": {
      "needs_background": "light"
     },
     "output_type": "display_data"
    }
   ],
   "source": [
    "\n",
    "plt.imshow(decisionmap_3, extent=[xrange[0], xrange[1], yrange[0], yrange[1]], origin='lower')\n"
   ]
  },
  {
   "cell_type": "code",
   "execution_count": 11,
   "metadata": {},
   "outputs": [
    {
     "data": {
      "text/plain": [
       "<matplotlib.image.AxesImage at 0x62aaa34d0>"
      ]
     },
     "execution_count": 11,
     "metadata": {},
     "output_type": "execute_result"
    },
    {
     "data": {
      "image/png": "[encoded data removed]",
      "text/plain": [
       "<Figure size 432x288 with 1 Axes>"
      ]
     },
     "metadata": {
      "needs_background": "light"
     },
     "output_type": "display_data"
    }
   ],
   "source": [
    "pred_label=np.array([0]*len(pred_label_1))\n",
    "for i in range(len(pred_label)):\n",
    "    if pred_label_12[i] and pred_label_13[i] and pred_label_23[i]:\n",
    "        continue\n",
    "    elif pred_label_12[i] and pred_label_13[i]:\n",
    "        pred_label[i]=1\n",
    "    elif pred_label_12[i] and pred_label_23[i]:\n",
    "        pred_label[i]=2\n",
    "    elif pred_label_13[i] and pred_label_23[i]:\n",
    "        pred_label[i]=3\n",
    "decisionmap = pred_label.reshape(image_size, order='F')\n",
    "#show the image, give each coordinate a color according to its class label\n",
    "plt.imshow(decisionmap, extent=[xrange[0], xrange[1], yrange[0], yrange[1]], origin='lower')"
   ]
  },
  {
   "cell_type": "code",
   "execution_count": 12,
   "metadata": {},
   "outputs": [
    {
     "data": {
      "text/plain": [
       "<matplotlib.image.AxesImage at 0x62c8dd090>"
      ]
     },
     "execution_count": 12,
     "metadata": {},
     "output_type": "execute_result"
    },
    {
     "data": {
      "image/png": "[encoded data removed]",
      "text/plain": [
       "<Figure size 432x288 with 1 Axes>"
      ]
     },
     "metadata": {
      "needs_background": "light"
     },
     "output_type": "display_data"
    }
   ],
   "source": [
    "xrange = (-5,5)\n",
    "yrange = (-5,5)\n",
    "\n",
    "# step size for how finely you want to visualize the decision boundary.\n",
    "inc = 0.005\n",
    "\n",
    "# generate grid coordinates. this will be the basis of the decision\n",
    "# boundary visualization.\n",
    "(x, y) = np.meshgrid(np.arange(xrange[0], xrange[1]+inc/100, inc), np.arange(yrange[0], yrange[1]+inc/100, inc))\n",
    "\n",
    "# size of the (x, y) image, which will also be the size of the\n",
    "# decision boundary image that is used as the plot background.\n",
    "image_size = x.shape\n",
    "xy = np.hstack( (x.reshape(x.shape[0]*x.shape[1], 1, order='F'), y.reshape(y.shape[0]*y.shape[1], 1, order='F')) ) # make (x,y) pairs as a bunch of row vectors.\n",
    "\n",
    "# distance measure evaluations for each (x,y) pair.\n",
    "sample_mean=np.array([[0,-2],[0,1]])\n",
    "dist_mat = cdist(xy, sample_mean)\n",
    "pred_label = np.argmin(dist_mat, axis=1)\n",
    "\n",
    "# reshape the idx (which contains the class label) into an image.\n",
    "decisionmap = pred_label.reshape(image_size, order='F')\n",
    "\n",
    "#show the image, give each coordinate a color according to its class label\n",
    "plt.imshow(decisionmap, extent=[xrange[0], xrange[1], yrange[0], yrange[1]], origin='lower')"
   ]
  },
  {
   "cell_type": "code",
   "execution_count": 13,
   "metadata": {},
   "outputs": [
    {
     "data": {
      "text/plain": [
       "<matplotlib.image.AxesImage at 0x63be60390>"
      ]
     },
     "execution_count": 13,
     "metadata": {},
     "output_type": "execute_result"
    },
    {
     "data": {
      "image/png": "[encoded data removed]",
      "text/plain": [
       "<Figure size 432x288 with 1 Axes>"
      ]
     },
     "metadata": {
      "needs_background": "light"
     },
     "output_type": "display_data"
    }
   ],
   "source": [
    "xrange = (-5,5)\n",
    "yrange = (-5,5)\n",
    "\n",
    "# step size for how finely you want to visualize the decision boundary.\n",
    "inc = 0.005\n",
    "\n",
    "# generate grid coordinates. this will be the basis of the decision\n",
    "# boundary visualization.\n",
    "(x, y) = np.meshgrid(np.arange(xrange[0], xrange[1]+inc/100, inc), np.arange(yrange[0], yrange[1]+inc/100, inc))\n",
    "\n",
    "# size of the (x, y) image, which will also be the size of the\n",
    "# decision boundary image that is used as the plot background.\n",
    "image_size = x.shape\n",
    "xy = np.hstack( (x.reshape(x.shape[0]*x.shape[1], 1, order='F'), y.reshape(y.shape[0]*y.shape[1], 1, order='F')) ) # make (x,y) pairs as a bunch of row vectors.\n",
    "\n",
    "# distance measure evaluations for each (x,y) pair.\n",
    "sample_mean=np.array([[0,-2],[0,1],[2,0]])\n",
    "dist_mat = cdist(xy, sample_mean)\n",
    "pred_label = np.argmin(dist_mat, axis=1)\n",
    "\n",
    "# reshape the idx (which contains the class label) into an image.\n",
    "decisionmap = pred_label.reshape(image_size, order='F')\n",
    "\n",
    "#show the image, give each coordinate a color according to its class label\n",
    "plt.imshow(decisionmap, extent=[xrange[0], xrange[1], yrange[0], yrange[1]], origin='lower')"
   ]
  },
  {
   "cell_type": "markdown",
   "metadata": {},
   "source": []
  },
  {
   "cell_type": "markdown",
   "metadata": {},
   "source": []
  }
 ],
 "metadata": {
  "kernelspec": {
   "display_name": "Python 2",
   "language": "python",
   "name": "python2"
  },
  "language_info": {
   "codemirror_mode": {
    "name": "ipython",
    "version": 2
   },
   "file_extension": ".py",
   "mimetype": "text/x-python",
   "name": "python",
   "nbconvert_exporter": "python",
   "pygments_lexer": "ipython2",
   "version": "2.7.15"
  }
 },
 "nbformat": 4,
 "nbformat_minor": 2
}
