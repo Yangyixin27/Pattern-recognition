{
 "cells": [
  {
   "cell_type": "code",
   "execution_count": 3,
   "metadata": {},
   "outputs": [],
   "source": [
    "import numpy as np\n",
    "from sklearn.linear_model import Perceptron\n",
    "from sklearn.metrics import accuracy_score\n",
    "from sklearn.linear_model import LinearRegression\n",
    "from sklearn.preprocessing import StandardScaler\n",
    "from sklearn.multiclass import OneVsRestClassifier\n",
    "#from sklearn.multiclass import MSE_binary"
   ]
  },
  {
   "cell_type": "code",
   "execution_count": 4,
   "metadata": {},
   "outputs": [],
   "source": [
    "train_data=np.loadtxt(\"wine_train.csv\", dtype=np.float, delimiter=\",\")\n",
    "train_X_data,train_label=train_data[:,:-1],train_data[:,-1]\n",
    "test_data=np.loadtxt(\"wine_test.csv\", dtype=np.float, delimiter=\",\")\n",
    "test_X_data,test_label=test_data[:,:-1],test_data[:,-1]\n",
    "#print np.mean(train_data,axis=0)\n",
    "#print np.std(train_data,axis=0)"
   ]
  },
  {
   "cell_type": "code",
   "execution_count": 6,
   "metadata": {},
   "outputs": [
    {
     "name": "stdout",
     "output_type": "stream",
     "text": [
      "StandardScaler(copy=True, with_mean=True, with_std=True)\n"
     ]
    }
   ],
   "source": [
    "scaler = StandardScaler()\n",
    "print(scaler.fit(train_X_data)) #get standerdize parameter\n",
    "\n",
    "train_X_data_std=scaler.transform(train_X_data) #standerdize taining set\n",
    "# print np.mean(train_X_data_std,axis=0)\n",
    "# print np.std(train_X_data_std,axis=0)\n",
    "\n",
    "test_X_data_std=scaler.transform(test_X_data) #standerdize test set using parameter get from training data\n",
    "# print np.mean(test_X_data_std,axis=0)\n",
    "# print np.std(test_X_data_std,axis=0)"
   ]
  },
  {
   "cell_type": "code",
   "execution_count": null,
   "metadata": {},
   "outputs": [],
   "source": [
    "############## Perceptron #####################"
   ]
  },
  {
   "cell_type": "code",
   "execution_count": 76,
   "metadata": {},
   "outputs": [
    {
     "name": "stdout",
     "output_type": "stream",
     "text": [
      "2FEATURE,TRAINING SCORE IS: 0.6966292134831461\n",
      "0.6741573033707865\n",
      "[[ 2.53232585 -1.81313114]\n",
      " [-4.03313095  0.05439393]\n",
      " [ 1.14791643  0.29916664]]\n",
      "[-1.  1. -2.]\n"
     ]
    }
   ],
   "source": [
    "model = Perceptron(max_iter=1000, random_state=None, tol=1e-15)\n",
    "model.fit(train_X_data_std[:,:2], train_label)\n",
    "print \"2FEATURE,TRAINING SCORE IS: %s\" %model.score(train_X_data_std[:,:2],train_label)\n",
    "print \"2FEATURE,TESTING SCORE IS: %s\" %model.score(test_X_data_std[:,:2],test_label)\n",
    "\n",
    "print model.coef_\n",
    "print model.intercept_"
   ]
  },
  {
   "cell_type": "code",
   "execution_count": 77,
   "metadata": {},
   "outputs": [
    {
     "name": "stdout",
     "output_type": "stream",
     "text": [
      "13FEATURE,TRAINING SCORE IS: 1.0\n",
      "13FEATURE,TRAINING SCORE IS: 0.9325842696629213\n",
      "[[ 2.36904286 -0.0815909   1.99692494 -1.84759663  2.82381873 -0.03345839\n",
      "   2.28086455  1.02041994  1.44923803  0.75069056  0.7953367   3.07044448\n",
      "   3.2056101 ]\n",
      " [-4.18887359 -3.70785319 -2.26567844  2.98605079 -3.23985811  1.35351061\n",
      "   2.60644055  2.35668414 -0.5893236  -8.09515836  1.79231769  0.58287193\n",
      "  -4.29807763]\n",
      " [ 1.1019888   2.58371188  2.45541101  0.37386432  1.84107149 -1.54767895\n",
      "  -3.62556064 -2.61646137 -0.90598128  6.37998185 -2.4805278  -1.66878735\n",
      "  -0.04666695]]\n",
      "[-4. -5. -8.]\n"
     ]
    }
   ],
   "source": [
    "model = Perceptron(max_iter=1000, random_state=None, tol=1e-15)\n",
    "model.fit(train_X_data_std, train_label)\n",
    "print \"13FEATURE,TRAINING SCORE IS: %s\" %model.score(train_X_data_std,train_label)\n",
    "print \"13FEATURE,TRAINING SCORE IS: %s\" %model.score(test_X_data_std,test_label)\n",
    "print model.coef_\n",
    "print model.intercept_"
   ]
  },
  {
   "cell_type": "code",
   "execution_count": 123,
   "metadata": {},
   "outputs": [],
   "source": [
    "result_train_score = 0\n",
    "for _ in range(100):\n",
    "    model = Perceptron(max_iter=1000, random_state=None, tol=1e-15)\n",
    "    model.fit(train_X_data_std, train_label)\n",
    "    score = model.score(train_X_data_std,train_label)\n",
    "    if score>result_train_score:\n",
    "        result_train_score = score\n",
    "        result_test_score = model.score(test_X_data_std,test_label)\n",
    "    \n",
    "        w = model.coef_\n",
    "        w0 = model.intercept_"
   ]
  },
  {
   "cell_type": "code",
   "execution_count": 124,
   "metadata": {},
   "outputs": [
    {
     "name": "stdout",
     "output_type": "stream",
     "text": [
      "1.0\n",
      "0.9325842696629213\n",
      "[[ 3.62581462  1.3507827   3.35221634 -2.684495    1.9586901  -1.10741777\n",
      "   5.00996113 -0.39340366 -2.18900515 -0.14351162  3.49207253  3.01515474\n",
      "   4.15281028]\n",
      " [-4.35311626 -3.34522696 -4.4404005   1.61510685 -2.72855737  0.23457438\n",
      "  -0.19937713  2.36229084  1.89683345 -8.36498451  1.11036314 -1.4762051\n",
      "  -6.22923371]\n",
      " [-0.68795469  1.09694434  0.94825125  0.67768988  1.44738936 -0.0698421\n",
      "  -2.72005619 -0.89800692 -1.20313317  6.08627603 -2.63740569 -2.77691185\n",
      "  -0.33811598]]\n",
      "[-4. -6. -3.]\n"
     ]
    }
   ],
   "source": [
    "print result_train_score\n",
    "print result_test_score\n",
    "print w\n",
    "print w0"
   ]
  },
  {
   "cell_type": "code",
   "execution_count": null,
   "metadata": {},
   "outputs": [],
   "source": [
    "################## MSE #################"
   ]
  },
  {
   "cell_type": "code",
   "execution_count": 137,
   "metadata": {},
   "outputs": [
    {
     "name": "stdout",
     "output_type": "stream",
     "text": [
      "Calling MSE function...\n",
      "Calling MSE function...\n",
      "Calling MSE function...\n",
      "Calling MSE function...\n",
      "0.7640449438202247\n",
      "0.7528089887640449\n"
     ]
    }
   ],
   "source": [
    "\n",
    "binary_model = MSE_binary()\n",
    "model = OneVsRestClassifier(binary_model)\n",
    "model.fit(train_X_data_std[:,:2], train_label)\n",
    "print model.score(train_X_data_std[:,:2],train_label)\n",
    "print model.score(test_X_data_std[:,:2],test_label)"
   ]
  },
  {
   "cell_type": "code",
   "execution_count": 131,
   "metadata": {},
   "outputs": [],
   "source": [
    "class MSE_binary(LinearRegression):\n",
    "    def __init__(self):\n",
    "        #print(\"Calling MSE function...\")\n",
    "        super(MSE_binary, self).__init__()\n",
    "    def predict(self, X):\n",
    "        thr = 0.5\n",
    "        y = self._decision_function(X)\n",
    "        y_int = (np.zeros(y.shape)).astype(int)\n",
    "        y_int[y>thr] = 1\n",
    "        return y_int"
   ]
  },
  {
   "cell_type": "code",
   "execution_count": 149,
   "metadata": {},
   "outputs": [
    {
     "data": {
      "text/plain": [
       "<matplotlib.legend.Legend at 0x1a22933e50>"
      ]
     },
     "execution_count": 149,
     "metadata": {},
     "output_type": "execute_result"
    },
    {
     "data": {
      "image/png": "[encoded data removed]",
      "text/plain": [
       "<Figure size 432x288 with 1 Axes>"
      ]
     },
     "metadata": {
      "needs_background": "light"
     },
     "output_type": "display_data"
    }
   ],
   "source": [
    "import matplotlib.pyplot as plt\n",
    "x=np.array([[0,0],[0,1],[0,-1],[-2,0],[-1,0],[0,2],[0,-2],[1,0],[2,0]])\n",
    "f2 = plt.figure(2)\n",
    "p1 = plt.scatter(x[:3,0], x[:3,1], marker = 'x', color = 'm', label='1', s = 30)\n",
    "\n",
    "p2 = plt.scatter(x[3:,0], x[3:,1], marker = '+', color = 'c', label='2', s = 50)\n",
    "plt.xlabel('X1')\n",
    "plt.ylabel('X2')\n",
    "plt.legend(loc = 'upper right')"
   ]
  },
  {
   "cell_type": "code",
   "execution_count": 3,
   "metadata": {},
   "outputs": [
    {
     "data": {
      "text/plain": [
       "<matplotlib.legend.Legend at 0x120f3d210>"
      ]
     },
     "execution_count": 3,
     "metadata": {},
     "output_type": "execute_result"
    },
    {
     "data": {
      "image/png": "[encoded data removed]",
      "text/plain": [
       "<Figure size 432x288 with 1 Axes>"
      ]
     },
     "metadata": {
      "needs_background": "light"
     },
     "output_type": "display_data"
    }
   ],
   "source": [
    "import matplotlib.pyplot as plt\n",
    "import numpy as np\n",
    "x=np.array([[0,0],[0,1],[0,-1],[-2,0],[-1,0],[0,2],[0,-2],[1,0],[2,0]])\n",
    "f2 = plt.figure(2)\n",
    "p1 = plt.scatter(x[:3,0]**2, x[:3,1]**2, marker = 'x', color = 'm', label='1', s = 30)\n",
    "\n",
    "p2 = plt.scatter(x[3:,0]**2, x[3:,1]**2, marker = '+', color = 'c', label='2', s = 50)\n",
    "plt.xlabel('X1^2')\n",
    "plt.ylabel('X2^2')\n",
    "plt.legend(loc = 'upper right')"
   ]
  },
  {
   "cell_type": "code",
   "execution_count": 4,
   "metadata": {},
   "outputs": [
    {
     "ename": "NameError",
     "evalue": "name 'y' is not defined",
     "output_type": "error",
     "traceback": [
      "\u001b[0;31m---------------------------------------------------------------------------\u001b[0m",
      "\u001b[0;31mNameError\u001b[0m                                 Traceback (most recent call last)",
      "\u001b[0;32m<ipython-input-4-d80f72088e3c>\u001b[0m in \u001b[0;36m<module>\u001b[0;34m()\u001b[0m\n\u001b[0;32m----> 1\u001b[0;31m \u001b[0mplt\u001b[0m\u001b[0;34m.\u001b[0m\u001b[0mcontour\u001b[0m\u001b[0;34m(\u001b[0m\u001b[0mx\u001b[0m\u001b[0;34m,\u001b[0m \u001b[0my\u001b[0m\u001b[0;34m,\u001b[0m \u001b[0mx\u001b[0m\u001b[0;34m^\u001b[0m\u001b[0;36m2\u001b[0m\u001b[0;34m/\u001b[0m\u001b[0;36m9\u001b[0m\u001b[0;34m-\u001b[0m\u001b[0my\u001b[0m\u001b[0;34m^\u001b[0m\u001b[0;36m2\u001b[0m\u001b[0;34m/\u001b[0m\u001b[0;36m4\u001b[0m\u001b[0;34m-\u001b[0m\u001b[0;36m1\u001b[0m\u001b[0;34m,\u001b[0m \u001b[0;36m0\u001b[0m\u001b[0;34m)\u001b[0m\u001b[0;34m\u001b[0m\u001b[0m\n\u001b[0m",
      "\u001b[0;31mNameError\u001b[0m: name 'y' is not defined"
     ]
    }
   ],
   "source": [
    "plt.contour(x, y, x^2/9-y^2/4-1, 0)"
   ]
  },
  {
   "cell_type": "code",
   "execution_count": null,
   "metadata": {},
   "outputs": [],
   "source": []
  }
 ],
 "metadata": {
  "kernelspec": {
   "display_name": "Python 2",
   "language": "python",
   "name": "python2"
  },
  "language_info": {
   "codemirror_mode": {
    "name": "ipython",
    "version": 2
   },
   "file_extension": ".py",
   "mimetype": "text/x-python",
   "name": "python",
   "nbconvert_exporter": "python",
   "pygments_lexer": "ipython2",
   "version": "2.7.15"
  }
 },
 "nbformat": 4,
 "nbformat_minor": 2
}
